{
 "cells": [
  {
   "cell_type": "markdown",
   "metadata": {},
   "source": [
    "get data from https://ods.ai/competitions/competition-recsys-21/data"
   ]
  },
  {
   "cell_type": "code",
   "execution_count": 17,
   "metadata": {},
   "outputs": [
    {
     "name": "stdout",
     "output_type": "stream",
     "text": [
      "Archive:  recsys_course.zip\n",
      "  inflating: data/items.csv          \n",
      "  inflating: data/RecSys notebook Baseline.ipynb  \n",
      "  inflating: data/RecSys notebook EDA.ipynb  \n",
      "  inflating: data/sample_submission.csv  \n",
      "  inflating: data/users.csv          \n",
      "  inflating: data/interactions.csv   \n"
     ]
    }
   ],
   "source": [
    "!mkdir data\n",
    "!unzip recsys_course.zip -d data"
   ]
  },
  {
   "cell_type": "markdown",
   "metadata": {},
   "source": [
    "- [x] Склонить репу, заставить работать, закинуть туда любую модель, появиться на лидерборде с этой моделью. (4 балла)\n",
    "- [x] Добавить аутентификацию (1 балл) + тесты на нее (1 балл)\n",
    "- [x] Предусмотреть чтобы сервис возвращал 404 ошибку, если задано неверное имя модели, покрыть тестами (1 балл)\n",
    "- [x] Добавить описание возможных ответов в сваггер (1 балл)\n",
    "- [x] Писать чистый и эффективный код, соблюдая PEP8 (2 балла)"
   ]
  },
  {
   "cell_type": "markdown",
   "metadata": {},
   "source": []
  }
 ],
 "metadata": {
  "kernelspec": {
   "display_name": ".venv",
   "language": "python",
   "name": "python3"
  },
  "language_info": {
   "codemirror_mode": {
    "name": "ipython",
    "version": 3
   },
   "file_extension": ".py",
   "mimetype": "text/x-python",
   "name": "python",
   "nbconvert_exporter": "python",
   "pygments_lexer": "ipython3",
   "version": "3.8.10"
  }
 },
 "nbformat": 4,
 "nbformat_minor": 2
}
